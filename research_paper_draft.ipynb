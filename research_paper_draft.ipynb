{
 "cells": [
  {
   "metadata": {},
   "cell_type": "markdown",
   "source": "# Research Paper Draft",
   "id": "eb348941b46c49d1"
  },
  {
   "metadata": {
    "ExecuteTime": {
     "end_time": "2024-11-06T20:42:02.630832Z",
     "start_time": "2024-11-06T20:42:02.617467Z"
    }
   },
   "cell_type": "code",
   "source": [
    "from IPython.core.display import HTML\n",
    "\n",
    "def set_notebook_font(font):\n",
    "    display(HTML(f\"\"\"\n",
    "    <style>\n",
    "        .CodeMirror, .input_area, .output_area {{\n",
    "            font-family: '{font}', serif;\n",
    "        }}\n",
    "        .text_cell_render {{\n",
    "            font-family: '{font}', serif;\n",
    "        }}\n",
    "    </style>\n",
    "    \"\"\"))\n",
    "\n",
    "# Change font to Times New Roman\n",
    "set_notebook_font('Times New Roman')"
   ],
   "id": "f8adc6de2e639a29",
   "outputs": [
    {
     "data": {
      "text/plain": [
       "<IPython.core.display.HTML object>"
      ],
      "text/html": [
       "\n",
       "    <style>\n",
       "        .CodeMirror, .input_area, .output_area {\n",
       "            font-family: 'Times New Roman', serif;\n",
       "        }\n",
       "        .text_cell_render {\n",
       "            font-family: 'Times New Roman', serif;\n",
       "        }\n",
       "    </style>\n",
       "    "
      ]
     },
     "metadata": {},
     "output_type": "display_data"
    }
   ],
   "execution_count": 1
  },
  {
   "cell_type": "code",
   "execution_count": null,
   "id": "initial_id",
   "metadata": {
    "collapsed": true
   },
   "outputs": [],
   "source": [
    ""
   ]
  }
 ],
 "metadata": {
  "kernelspec": {
   "display_name": "Python 3",
   "language": "python",
   "name": "python3"
  },
  "language_info": {
   "codemirror_mode": {
    "name": "ipython",
    "version": 2
   },
   "file_extension": ".py",
   "mimetype": "text/x-python",
   "name": "python",
   "nbconvert_exporter": "python",
   "pygments_lexer": "ipython2",
   "version": "2.7.6"
  }
 },
 "nbformat": 4,
 "nbformat_minor": 5
}
