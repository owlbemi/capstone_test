{
 "nbformat": 4,
 "nbformat_minor": 0,
 "metadata": {
  "colab": {
   "provenance": [],
   "gpuType": "T4",
   "authorship_tag": "ABX9TyOYlicB7biHp3aQjIENhYKK",
   "include_colab_link": true
  },
  "kernelspec": {
   "name": "python3",
   "display_name": "Python 3 (ipykernel)",
   "language": "python"
  },
  "language_info": {
   "name": "python"
  },
  "accelerator": "GPU"
 },
 "cells": [
  {
   "cell_type": "markdown",
   "metadata": {
    "id": "view-in-github",
    "colab_type": "text"
   },
   "source": [
    "<a href=\"https://colab.research.google.com/github/owlbemi/capstone_test/blob/jk_test/capstone_testgc.ipynb\" target=\"_parent\"><img src=\"https://colab.research.google.com/assets/colab-badge.svg\" alt=\"Open In Colab\"/></a>"
   ]
  },
  {
   "cell_type": "code",
   "source": [
    "!pip install laspy\n",
    "!pip install networkx\n",
    "!pip install scipy"
   ],
   "metadata": {
    "colab": {
     "base_uri": "https://localhost:8080/"
    },
    "id": "sLmuQp6L7QKU",
    "outputId": "6d3a37d5-c969-480d-ce44-cd2fbaf522ac"
   },
   "execution_count": 1,
   "outputs": [
    {
     "output_type": "stream",
     "name": "stdout",
     "text": [
      "Collecting laspy\n",
      "  Downloading laspy-2.5.4-py3-none-any.whl.metadata (3.5 kB)\n",
      "Requirement already satisfied: numpy in /usr/local/lib/python3.10/dist-packages (from laspy) (1.26.4)\n",
      "Downloading laspy-2.5.4-py3-none-any.whl (84 kB)\n",
      "\u001B[?25l   \u001B[90m━━━━━━━━━━━━━━━━━━━━━━━━━━━━━━━━━━━━━━━━\u001B[0m \u001B[32m0.0/84.3 kB\u001B[0m \u001B[31m?\u001B[0m eta \u001B[36m-:--:--\u001B[0m\r\u001B[2K   \u001B[90m━━━━━━━━━━━━━━━━━━━━━━━━━━━━━━━━━━━━━━━━\u001B[0m \u001B[32m84.3/84.3 kB\u001B[0m \u001B[31m2.4 MB/s\u001B[0m eta \u001B[36m0:00:00\u001B[0m\n",
      "\u001B[?25hInstalling collected packages: laspy\n",
      "Successfully installed laspy-2.5.4\n",
      "Requirement already satisfied: networkx in /usr/local/lib/python3.10/dist-packages (3.4.2)\n",
      "Requirement already satisfied: scipy in /usr/local/lib/python3.10/dist-packages (1.13.1)\n",
      "Requirement already satisfied: numpy<2.3,>=1.22.4 in /usr/local/lib/python3.10/dist-packages (from scipy) (1.26.4)\n"
     ]
    }
   ]
  },
  {
   "cell_type": "code",
   "source": [
    "from google.colab import drive\n",
    "drive.mount('/content/drive')"
   ],
   "metadata": {
    "colab": {
     "base_uri": "https://localhost:8080/"
    },
    "id": "kTtpyLG-7S0p",
    "outputId": "f0ca94a4-8df9-4ce0-9c32-de56abe62adb"
   },
   "execution_count": 2,
   "outputs": [
    {
     "output_type": "stream",
     "name": "stdout",
     "text": [
      "Mounted at /content/drive\n"
     ]
    }
   ]
  },
  {
   "cell_type": "code",
   "source": "file_path = 'D:\\Downloads\\coffeeshop_merged.las'",
   "metadata": {
    "id": "7j_HJ9db7jVD",
    "ExecuteTime": {
     "end_time": "2024-10-25T04:42:57.691883Z",
     "start_time": "2024-10-25T04:42:57.681234Z"
    }
   },
   "outputs": [],
   "execution_count": 1
  },
  {
   "cell_type": "code",
   "source": [
    "import laspy\n",
    "import numpy as np\n",
    "from scipy.spatial import KDTree\n",
    "import networkx as nx\n",
    "\n",
    "# Load .las file\n",
    "with laspy.open(file_path) as f:\n",
    "    for points in f.chunk_iterator(1_000_000):\n",
    "        points = np.vstack((las.x, las.y, las.z)).T"
   ],
   "metadata": {
    "id": "bCUhi6aL5a1V",
    "jupyter": {
     "is_executing": true
    }
   },
   "outputs": [],
   "execution_count": null
  },
  {
   "metadata": {},
   "cell_type": "code",
   "outputs": [],
   "execution_count": null,
   "source": [
    "# Define start and end points\n",
    "start_point = (x_start, y_start, z_start)\n",
    "exit_point = (x_exit, y_exit, z_exit)\n",
    "\n",
    "# Create KDTree for efficient distance calculations\n",
    "kdtree = KDTree(points)\n",
    "\n",
    "# Convert points to graph and find shortest path\n",
    "G = nx.Graph()\n",
    "for i, point in enumerate(points):\n",
    "    # Link each point with its nearest neighbors (can adjust k as needed)\n",
    "    distances, neighbors = kdtree.query(point, k=5)\n",
    "    for dist, neighbor_idx in zip(distances, neighbors):\n",
    "        if i != neighbor_idx:  # Avoid self-loop\n",
    "            G.add_edge(i, neighbor_idx, weight=dist)\n",
    "\n",
    "# Use Dijkstra's algorithm\n",
    "path_indices = nx.dijkstra_path(G, source=start_index, target=exit_index)\n",
    "path_points = points[path_indices]\n"
   ]
  }
 ]
}
